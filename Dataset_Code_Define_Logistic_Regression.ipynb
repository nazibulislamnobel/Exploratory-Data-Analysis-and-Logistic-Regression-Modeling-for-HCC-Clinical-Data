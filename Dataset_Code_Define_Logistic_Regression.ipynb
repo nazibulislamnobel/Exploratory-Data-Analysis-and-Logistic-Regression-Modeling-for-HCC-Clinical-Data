{
  "nbformat": 4,
  "nbformat_minor": 0,
  "metadata": {
    "colab": {
      "provenance": []
    },
    "kernelspec": {
      "name": "python3",
      "display_name": "Python 3"
    },
    "language_info": {
      "name": "python"
    }
  },
  "cells": [
    {
      "cell_type": "code",
      "execution_count": 28,
      "metadata": {
        "id": "s4QrUE50hA3U"
      },
      "outputs": [],
      "source": [
        "import pandas as pd\n",
        "import matplotlib.pyplot as plt\n",
        "import seaborn as sns\n",
        "import os\n",
        "from sklearn.model_selection import train_test_split\n",
        "from sklearn.linear_model import LogisticRegression\n",
        "from sklearn.metrics import accuracy_score\n",
        "from sklearn.preprocessing import LabelEncoder\n",
        "import joblib"
      ]
    },
    {
      "cell_type": "code",
      "source": [
        "data_path = '/content/drive/MyDrive/HCC-TACE-Seg_clinical_data-V2.xlsx'\n",
        "df = pd.read_excel(data_path)\n",
        "df_cleaned = df.dropna()\n",
        "numerical_stats = df.describe()"
      ],
      "metadata": {
        "id": "e6msOfWkixcJ"
      },
      "execution_count": 4,
      "outputs": []
    },
    {
      "cell_type": "code",
      "source": [
        "save_dir = '/content/drive/MyDrive/'\n",
        "os.makedirs(save_dir, exist_ok=True)"
      ],
      "metadata": {
        "id": "bbQXY9KpjCZ7"
      },
      "execution_count": 16,
      "outputs": []
    },
    {
      "cell_type": "code",
      "source": [
        "numerical_columns = df.select_dtypes(include=['float64', 'int64']).columns\n",
        "for col in numerical_columns:\n",
        "    plt.figure(figsize=(12, 8))\n",
        "    df[col].hist(bins=20)\n",
        "    plt.title(f'Histogram of {col}')\n",
        "    plt.xlabel(col)\n",
        "    plt.ylabel('Frequency')\n",
        "    plt.tight_layout()\n",
        "    save_path = os.path.join(save_dir, f'hist_{col}.png')\n",
        "    plt.savefig(save_path)\n",
        "    plt.close()"
      ],
      "metadata": {
        "id": "5ldod83cjIk-"
      },
      "execution_count": 17,
      "outputs": []
    },
    {
      "cell_type": "code",
      "source": [
        "categorical_columns = df.select_dtypes(include=['object']).columns\n",
        "for col in categorical_columns:\n",
        "    plt.figure(figsize=(8, 6))\n",
        "    sns.countplot(x=col, data=df)\n",
        "    plt.title(f'Countplot of {col}')\n",
        "    plt.xticks(rotation=45)\n",
        "    plt.tight_layout()\n",
        "    save_path = os.path.join(save_dir, f'countplot_{col}.png')\n",
        "    plt.savefig(save_path)\n",
        "    plt.close()"
      ],
      "metadata": {
        "id": "cDOFNzaxjM3s"
      },
      "execution_count": 18,
      "outputs": []
    },
    {
      "cell_type": "code",
      "source": [
        "correlation_matrix = df[numerical_columns].corr()\n",
        "\n",
        "plt.figure(figsize=(15, 12))\n",
        "sns.heatmap(correlation_matrix, annot=True, fmt=\".2f\", cmap='viridis')\n",
        "plt.title('Correlation Matrix')\n",
        "plt.xticks(rotation=45)\n",
        "plt.yticks(rotation=0)\n",
        "save_path = os.path.join(save_dir, 'correlation_matrix_heatmap.png')\n",
        "plt.savefig(save_path)\n",
        "plt.close()"
      ],
      "metadata": {
        "id": "B8LNVRaxj2MY"
      },
      "execution_count": 19,
      "outputs": []
    },
    {
      "cell_type": "code",
      "source": [
        "categorical_columns = df.select_dtypes(include=['object']).columns\n",
        "for col in categorical_columns:\n",
        "    plt.figure(figsize=(8, 6))\n",
        "    sns.countplot(x=col, data=df, hue='Death_1_StillAliveorLostToFU_0')\n",
        "    plt.title(f'Countplot of {col} by Death')\n",
        "    plt.xticks(rotation=45)\n",
        "    plt.tight_layout()\n",
        "    save_path = os.path.join(save_dir, f'countplot_{col}_by_death.png')\n",
        "    plt.savefig(save_path)\n",
        "    plt.close()"
      ],
      "metadata": {
        "id": "yv-CHTxBlciv"
      },
      "execution_count": 20,
      "outputs": []
    },
    {
      "cell_type": "code",
      "source": [
        "grouped = df.groupby('Sex')['TTP'].mean()\n",
        "\n",
        "plt.figure(figsize=(8, 6))\n",
        "grouped.plot(kind='bar', color=['blue', 'orange'])\n",
        "plt.title('Mean TTP by Gender')\n",
        "plt.xlabel('Sex')\n",
        "plt.ylabel('Mean TTP')\n",
        "plt.xticks(rotation=0)\n",
        "plt.tight_layout()\n",
        "save_path = os.path.join(save_dir, 'mean_ttp_by_gender.png')\n",
        "plt.savefig(save_path)\n",
        "plt.close()"
      ],
      "metadata": {
        "id": "lAi8_KHsnQ1c"
      },
      "execution_count": 22,
      "outputs": []
    },
    {
      "cell_type": "code",
      "source": [
        "features = df[['age', 'Sex', 'Smoking', 'Alcohol']]\n",
        "target = df['Death_1_StillAliveorLostToFU_0']\n",
        "\n",
        "label_encoder = LabelEncoder()\n",
        "features['Sex'] = label_encoder.fit_transform(features['Sex'])\n",
        "features['Smoking'] = label_encoder.fit_transform(features['Smoking'])\n",
        "features['Alcohol'] = label_encoder.fit_transform(features['Alcohol'])\n",
        "\n",
        "X_train, X_test, y_train, y_test = train_test_split(features, target, test_size=0.2, random_state=42)\n",
        "\n",
        "model = LogisticRegression()\n",
        "model.fit(X_train, y_train)\n",
        "\n",
        "y_pred = model.predict(X_test)\n",
        "\n",
        "accuracy = accuracy_score(y_test, y_pred)\n",
        "print(\"Accuracy of the model:\", accuracy)\n",
        "\n",
        "model_save_path = os.path.join(save_dir, 'logistic_regression_model.pkl')\n",
        "pd.to_pickle(model, model_save_path)"
      ],
      "metadata": {
        "id": "Z8DFORGooB5b"
      },
      "execution_count": null,
      "outputs": []
    },
    {
      "cell_type": "code",
      "source": [
        "features_encoded = pd.get_dummies(features, drop_first=True)\n",
        "\n",
        "X_train, X_test, y_train, y_test = train_test_split(features_encoded, target, test_size=0.2, random_state=42)"
      ],
      "metadata": {
        "id": "L29kAjdpsjJY"
      },
      "execution_count": 32,
      "outputs": []
    },
    {
      "cell_type": "code",
      "source": [
        "model = LogisticRegression()\n",
        "model.fit(X_train, y_train)\n",
        "model_save_path = os.path.join(save_dir, 'logistic_regression_model.pkl')\n",
        "joblib.dump(model, model_save_path)"
      ],
      "metadata": {
        "id": "vcntqKg0op_7"
      },
      "execution_count": null,
      "outputs": []
    },
    {
      "cell_type": "code",
      "source": [
        "accuracy = accuracy_score(y_test, y_pred)\n",
        "print(f'Accuracy: {accuracy:.2f}')"
      ],
      "metadata": {
        "colab": {
          "base_uri": "https://localhost:8080/"
        },
        "id": "6inWJKckr2VW",
        "outputId": "e0c8e95d-ccb8-4306-92e4-961a980b4f74"
      },
      "execution_count": 34,
      "outputs": [
        {
          "output_type": "stream",
          "name": "stdout",
          "text": [
            "Accuracy: 0.81\n"
          ]
        }
      ]
    }
  ]
}